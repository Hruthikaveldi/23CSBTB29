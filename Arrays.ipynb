{
  "nbformat": 4,
  "nbformat_minor": 0,
  "metadata": {
    "colab": {
      "provenance": [],
      "authorship_tag": "ABX9TyNzC8Q6oxD28h0WPRXqO7Rm",
      "include_colab_link": true
    },
    "kernelspec": {
      "name": "python3",
      "display_name": "Python 3"
    },
    "language_info": {
      "name": "python"
    }
  },
  "cells": [
    {
      "cell_type": "markdown",
      "metadata": {
        "id": "view-in-github",
        "colab_type": "text"
      },
      "source": [
        "<a href=\"https://colab.research.google.com/github/Hruthikaveldi/23CSBTB29/blob/main/Arrays.ipynb\" target=\"_parent\"><img src=\"https://colab.research.google.com/assets/colab-badge.svg\" alt=\"Open In Colab\"/></a>"
      ]
    },
    {
      "cell_type": "code",
      "source": [
        "import numpy as np"
      ],
      "metadata": {
        "id": "SRUwF6yi5MH5"
      },
      "execution_count": 5,
      "outputs": []
    },
    {
      "cell_type": "code",
      "execution_count": 4,
      "metadata": {
        "colab": {
          "base_uri": "https://localhost:8080/"
        },
        "id": "PiT6dKH0xkpq",
        "outputId": "b79483fc-09c2-46aa-d414-f4474e2b7b36"
      },
      "outputs": [
        {
          "output_type": "stream",
          "name": "stdout",
          "text": [
            "[2 5 7 3 8]\n",
            "<class 'numpy.ndarray'>\n"
          ]
        }
      ],
      "source": [
        "arry=np.array([2,5,7,3,8])\n",
        "print(arry)\n",
        "print(type(arry))"
      ]
    },
    {
      "cell_type": "code",
      "source": [
        "array = np.array([2, 5, 7, 3, 8])\n",
        "print(\"NumPy Array:\", array)\n",
        "print(\"Type:\", type(array))\n",
        "print(\"First element:\", array[0])\n",
        "print(\"Last element:\", array[-1])\n",
        "print(\"Sum of elements:\", np.sum(array))\n",
        "print(\"Mean of elements:\", np.mean(array))"
      ],
      "metadata": {
        "colab": {
          "base_uri": "https://localhost:8080/"
        },
        "id": "d8cZ2LaxxxrP",
        "outputId": "5cd6a7dd-824b-418e-dcc1-db033a0ea4ae"
      },
      "execution_count": 9,
      "outputs": [
        {
          "output_type": "stream",
          "name": "stdout",
          "text": [
            "NumPy Array: [2 5 7 3 8]\n",
            "Type: <class 'numpy.ndarray'>\n",
            "First element: 2\n",
            "Last element: 8\n",
            "Sum of elements: 25\n",
            "Mean of elements: 5.0\n"
          ]
        }
      ]
    },
    {
      "cell_type": "code",
      "source": [
        "array = np.array([2, 5, 7, 3, 8])\n",
        "print(\"Array:\", array)\n",
        "print(\"Type of array:\", type(array))\n",
        "print(\"First element:\", array[0])\n",
        "print(\"Last element:\", array[-1])"
      ],
      "metadata": {
        "colab": {
          "base_uri": "https://localhost:8080/"
        },
        "id": "Mac1ki3M5_Jy",
        "outputId": "30a410ab-ff86-467f-c86f-d9fd266eb38e"
      },
      "execution_count": 13,
      "outputs": [
        {
          "output_type": "stream",
          "name": "stdout",
          "text": [
            "Array: [2 5 7 3 8]\n",
            "Type of array: <class 'numpy.ndarray'>\n",
            "First element: 2\n",
            "Last element: 8\n"
          ]
        }
      ]
    },
    {
      "cell_type": "code",
      "source": [
        "array_1d = np.array([1, 2, 3, 4, 5])\n",
        "print(\"1D Array:\", array_1d)\n",
        "print(\"Type of 1D Array:\", type(array_1d))\n",
        "print(\"Sum of elements:\", np.sum(array_1d))\n",
        "print(\"Mean of elements:\", np.mean(array_1d))\n"
      ],
      "metadata": {
        "colab": {
          "base_uri": "https://localhost:8080/"
        },
        "id": "Z3WJ6aSQ6sSB",
        "outputId": "4dc0e564-3a56-42e1-f63b-8c033a4c6dc4"
      },
      "execution_count": 14,
      "outputs": [
        {
          "output_type": "stream",
          "name": "stdout",
          "text": [
            "1D Array: [1 2 3 4 5]\n",
            "Type of 1D Array: <class 'numpy.ndarray'>\n",
            "Sum of elements: 15\n",
            "Mean of elements: 3.0\n"
          ]
        }
      ]
    },
    {
      "cell_type": "code",
      "source": [
        "array_2d = np.array([[1, 2, 3], [4, 5, 6], [7, 8, 9]])\n",
        "print(\"2D Array:\\n\", array_2d)\n",
        "print(\"Type of 2D Array:\", type(array_2d))\n",
        "print(\"Sum of elements in 2D array:\", np.sum(array_2d))\n",
        "print(\"Transpose of 2D array:\\n\", np.transpose(array_2d))\n"
      ],
      "metadata": {
        "colab": {
          "base_uri": "https://localhost:8080/"
        },
        "id": "5MCj2NDu7QNI",
        "outputId": "9336ab0f-1955-4098-ecf2-24a5d362b39e"
      },
      "execution_count": 15,
      "outputs": [
        {
          "output_type": "stream",
          "name": "stdout",
          "text": [
            "2D Array:\n",
            " [[1 2 3]\n",
            " [4 5 6]\n",
            " [7 8 9]]\n",
            "Type of 2D Array: <class 'numpy.ndarray'>\n",
            "Sum of elements in 2D array: 45\n",
            "Transpose of 2D array:\n",
            " [[1 4 7]\n",
            " [2 5 8]\n",
            " [3 6 9]]\n"
          ]
        }
      ]
    },
    {
      "cell_type": "code",
      "source": [
        "array_3d = np.array([[[1, 2, 3], [4, 5, 6]],[[7, 8, 9], [10, 11, 12]]])\n",
        "print(\"3D Array:\\n\", array_3d)\n",
        "print(\"Type of 3D Array:\", type(array_3d))\n",
        "print(\"Sum of elements in 3D array:\", np.sum(array_3d))\n",
        "print(\"Shape of 3D array:\", array_3d.shape)\n"
      ],
      "metadata": {
        "colab": {
          "base_uri": "https://localhost:8080/"
        },
        "id": "kHDq6zY-7aKP",
        "outputId": "57db0c09-3b5f-43b5-e7c8-918b2b06275a"
      },
      "execution_count": 18,
      "outputs": [
        {
          "output_type": "stream",
          "name": "stdout",
          "text": [
            "3D Array:\n",
            " [[[ 1  2  3]\n",
            "  [ 4  5  6]]\n",
            "\n",
            " [[ 7  8  9]\n",
            "  [10 11 12]]]\n",
            "Type of 3D Array: <class 'numpy.ndarray'>\n",
            "Sum of elements in 3D array: 78\n",
            "Shape of 3D array: (2, 2, 3)\n"
          ]
        }
      ]
    },
    {
      "cell_type": "code",
      "source": [
        "# Creating a 4D array\n",
        "array_4d = np.array([[[[1, 2], [3, 4]], [[5, 6], [7, 8]]],\n",
        "                     [[[9, 10], [11, 12]], [[13, 14], [15, 16]]]])\n",
        "print(\"4D Array:\\n\", array_4d)\n",
        "print(\"Type of 4D Array:\", type(array_4d))\n",
        "print(\"Sum of elements in 4D array:\", np.sum(array_4d))\n",
        "print(\"Shape of 4D array:\", array_4d.shape)\n"
      ],
      "metadata": {
        "colab": {
          "base_uri": "https://localhost:8080/"
        },
        "id": "YdBCh0kf7gzK",
        "outputId": "e4b1f781-d957-4606-9fa1-e0ac09081a35"
      },
      "execution_count": 19,
      "outputs": [
        {
          "output_type": "stream",
          "name": "stdout",
          "text": [
            "4D Array:\n",
            " [[[[ 1  2]\n",
            "   [ 3  4]]\n",
            "\n",
            "  [[ 5  6]\n",
            "   [ 7  8]]]\n",
            "\n",
            "\n",
            " [[[ 9 10]\n",
            "   [11 12]]\n",
            "\n",
            "  [[13 14]\n",
            "   [15 16]]]]\n",
            "Type of 4D Array: <class 'numpy.ndarray'>\n",
            "Sum of elements in 4D array: 136\n",
            "Shape of 4D array: (2, 2, 2, 2)\n"
          ]
        }
      ]
    },
    {
      "cell_type": "code",
      "source": [
        "array_a = np.array([1, 2, 3])\n",
        "array_b = np.array([4, 5, 6])\n",
        "array_add = array_a + array_b\n",
        "print(\"\\nAddition of Two Arrays:\", array_add)\n",
        "array_mul = array_a * array_b\n",
        "print(\"Multiplication of Two Arrays:\", array_mul)\n",
        "array_div = array_b / array_a\n",
        "print(\"Division of Two Arrays:\", array_div)\n",
        "array_pow = np.power(array_a, 2)\n",
        "print(\"Element-wise Power (array_a^2):\", array_pow)\n"
      ],
      "metadata": {
        "colab": {
          "base_uri": "https://localhost:8080/"
        },
        "id": "a90BUqcw7seO",
        "outputId": "b3a9ecda-5586-433a-ab33-73c29b919c2e"
      },
      "execution_count": 20,
      "outputs": [
        {
          "output_type": "stream",
          "name": "stdout",
          "text": [
            "\n",
            "Addition of Two Arrays: [5 7 9]\n",
            "Multiplication of Two Arrays: [ 4 10 18]\n",
            "Division of Two Arrays: [4.  2.5 2. ]\n",
            "Element-wise Power (array_a^2): [1 4 9]\n"
          ]
        }
      ]
    },
    {
      "cell_type": "code",
      "source": [
        "sin_values = np.sin(array_a)\n",
        "print(\"\\nSin of array_a:\", sin_values)\n",
        "log_values = np.log(array_b)\n",
        "print(\"Log of array_b:\", log_values)\n",
        "log2_values = np.log2(array_b)\n",
        "print(\"Log base-2 of array_b:\", log2_values)\n",
        "exp_values = np.exp(array_a)\n",
        "print(\"Exponential of array_a:\", exp_values)\n"
      ],
      "metadata": {
        "colab": {
          "base_uri": "https://localhost:8080/"
        },
        "id": "NVHa45LA_Sbi",
        "outputId": "b4f3791b-c98b-4068-a744-1fd9588eb7e9"
      },
      "execution_count": 23,
      "outputs": [
        {
          "output_type": "stream",
          "name": "stdout",
          "text": [
            "\n",
            "Sin of array_a: [0.84147098 0.90929743 0.14112001]\n",
            "Log of array_b: [1.38629436 1.60943791 1.79175947]\n",
            "Log base-2 of array_b: [2.         2.32192809 2.5849625 ]\n",
            "Exponential of array_a: [ 2.71828183  7.3890561  20.08553692]\n"
          ]
        }
      ]
    },
    {
      "cell_type": "code",
      "source": [],
      "metadata": {
        "id": "JROr7jo__YI6"
      },
      "execution_count": null,
      "outputs": []
    }
  ]
}