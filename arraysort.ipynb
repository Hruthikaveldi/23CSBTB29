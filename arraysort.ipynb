{
  "nbformat": 4,
  "nbformat_minor": 0,
  "metadata": {
    "colab": {
      "provenance": [],
      "authorship_tag": "ABX9TyNlLJ5zrUUKzV6RKKYSqTJ7",
      "include_colab_link": true
    },
    "kernelspec": {
      "name": "python3",
      "display_name": "Python 3"
    },
    "language_info": {
      "name": "python"
    }
  },
  "cells": [
    {
      "cell_type": "markdown",
      "metadata": {
        "id": "view-in-github",
        "colab_type": "text"
      },
      "source": [
        "<a href=\"https://colab.research.google.com/github/Hruthikaveldi/CSBTB29/blob/main/arraysort.ipynb\" target=\"_parent\"><img src=\"https://colab.research.google.com/assets/colab-badge.svg\" alt=\"Open In Colab\"/></a>"
      ]
    },
    {
      "cell_type": "code",
      "execution_count": 3,
      "metadata": {
        "colab": {
          "base_uri": "https://localhost:8080/"
        },
        "id": "gldW0v10s6xM",
        "outputId": "3b8f5794-95bb-4583-96e7-8aa2cda8e3c9"
      },
      "outputs": [
        {
          "output_type": "stream",
          "name": "stdout",
          "text": [
            "[0 1 2 3]\n"
          ]
        }
      ],
      "source": [
        "import numpy as np\n",
        "arr=np.array([3,2,0,1])\n",
        "print(np.sort(arr))"
      ]
    },
    {
      "cell_type": "code",
      "source": [
        "import pandas as pd\n",
        "\n",
        "# Creating the Series\n",
        "sr = pd.Series([150, 50, 30, 20, 40, 100])\n",
        "\n",
        "# Create the Index\n",
        "drink = ['Coca Cola', 'Sprite', 'Coke', 'Fanta', 'Dew', 'ThumbsUp']\n",
        "\n",
        "# set the index\n",
        "sr.index = drink\n",
        "\n",
        "# Print the series\n",
        "print(sr)"
      ],
      "metadata": {
        "colab": {
          "base_uri": "https://localhost:8080/"
        },
        "id": "ZfPGTb20ucOK",
        "outputId": "caad859d-0377-48c3-b674-d7bc2294ab3d"
      },
      "execution_count": 4,
      "outputs": [
        {
          "output_type": "stream",
          "name": "stdout",
          "text": [
            "Coca Cola    150\n",
            "Sprite        50\n",
            "Coke          30\n",
            "Fanta         20\n",
            "Dew           40\n",
            "ThumbsUp     100\n",
            "dtype: int64\n"
          ]
        }
      ]
    },
    {
      "cell_type": "code",
      "source": [],
      "metadata": {
        "id": "pZJZsgigznXk"
      },
      "execution_count": null,
      "outputs": []
    }
  ]
}