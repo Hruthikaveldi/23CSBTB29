{
  "nbformat": 4,
  "nbformat_minor": 0,
  "metadata": {
    "colab": {
      "provenance": [],
      "authorship_tag": "ABX9TyM1O1V72wiOQgxH+reo715D",
      "include_colab_link": true
    },
    "kernelspec": {
      "name": "python3",
      "display_name": "Python 3"
    },
    "language_info": {
      "name": "python"
    }
  },
  "cells": [
    {
      "cell_type": "markdown",
      "metadata": {
        "id": "view-in-github",
        "colab_type": "text"
      },
      "source": [
        "<a href=\"https://colab.research.google.com/github/Hruthikaveldi/23CSBTB29/blob/main/Part3.ipynb\" target=\"_parent\"><img src=\"https://colab.research.google.com/assets/colab-badge.svg\" alt=\"Open In Colab\"/></a>"
      ]
    },
    {
      "cell_type": "markdown",
      "source": [
        "# **Part 3 – Access Data from Various Data Sources using builtin Function of Numpy, Pandas[CO3]**"
      ],
      "metadata": {
        "id": "wMNeknbgBbYF"
      }
    },
    {
      "cell_type": "code",
      "execution_count": null,
      "metadata": {
        "id": "QhJ3GvHj0Tba",
        "colab": {
          "base_uri": "https://localhost:8080/"
        },
        "outputId": "8b608e10-8886-4fe6-d816-8756d54196a1"
      },
      "outputs": [
        {
          "output_type": "stream",
          "name": "stdout",
          "text": [
            "     SID      NAME  AGE  COURSE     CONTACT\n",
            "0   1543  HRUTHIKA   19  B Tech  8328015334\n",
            "1   1038    PRANAV   18  B Tech  9676249100\n",
            "2   1560   ANURATH   19  B Tech  8885299732\n",
            "3   1918      RUPA   19  B Tech  8688784288\n",
            "4   1886   SPURTHI   18  B Tech  8806399206\n",
            "5   1027    ANJALI   18  B Tech  6281806866\n",
            "6   1363    VARSHA   19  B Tech  9502511960\n",
            "7   1365   RITHIKA   18  B Tech  6301143258\n",
            "8   2810   HARIENN   17  B Tech  9669312345\n",
            "9   1810   PRAVEEN   20  B Tech  8008052222\n",
            "10  3982   RADHIKA   20  B Tech  7799832229\n",
            "11  1234      RYAN   19  B Tech  8635184599\n",
            "12  1542     RADHA   18  B Tech  7527094208\n",
            "13  1324     ARNAV   20  B Tech  8359149294\n",
            "14  2314   HRITHIK   18  B Tech  7927184909\n",
            "15  1853    AYUSHH   19  B Tech  7629542002\n",
            "16  1345    DEEPAK   18  B Tech  9914771092\n",
            "17  1964   KARTHIK   18  B Tech  7738296912\n",
            "18  1742   ADITHYA   20  B Tech  9922447729\n",
            "19  1853    GEORGE   19  B Tech  8002185419\n"
          ]
        }
      ],
      "source": [
        "import pandas as pd\n",
        "data=pd.read_excel(\"/content/Excel work book.xlsx\")\n",
        "print(data)"
      ]
    },
    {
      "cell_type": "code",
      "source": [
        "import pandas as pd\n",
        "data = pd.read_csv(\"/content/Excel work book.csv\")\n",
        "print(data)"
      ],
      "metadata": {
        "id": "pdMnsYun2Ykw",
        "colab": {
          "base_uri": "https://localhost:8080/"
        },
        "outputId": "c355840f-0d22-49a0-9ed8-fbb27ebc3760"
      },
      "execution_count": null,
      "outputs": [
        {
          "output_type": "stream",
          "name": "stdout",
          "text": [
            "     SID      NAME  AGE  COURSE     CONTACT\n",
            "0   1543  HRUTHIKA   19  B Tech  8328015334\n",
            "1   1038    PRANAV   18  B Tech  9676249100\n",
            "2   1560   ANURATH   19  B Tech  8885299732\n",
            "3   1918      RUPA   19  B Tech  8688784288\n",
            "4   1886   SPURTHI   18  B Tech  8806399206\n",
            "5   1027    ANJALI   18  B Tech  6281806866\n",
            "6   1363    VARSHA   19  B Tech  9502511960\n",
            "7   1365   RITHIKA   18  B Tech  6301143258\n",
            "8   2810   HARIENN   17  B Tech  9669312345\n",
            "9   1810   PRAVEEN   20  B Tech  8008052222\n",
            "10  3982   RADHIKA   20  B Tech  7799832229\n",
            "11  1234      RYAN   19  B Tech  8635184599\n",
            "12  1542     RADHA   18  B Tech  7527094208\n",
            "13  1324     ARNAV   20  B Tech  8359149294\n",
            "14  2314   HRITHIK   18  B Tech  7927184909\n",
            "15  1853    AYUSHH   19  B Tech  7629542002\n",
            "16  1345    DEEPAK   18  B Tech  9914771092\n",
            "17  1964   KARTHIK   18  B Tech  7738296912\n",
            "18  1742   ADITHYA   20  B Tech  9922447729\n",
            "19  1853    GEORGE   19  B Tech  8002185419\n"
          ]
        }
      ]
    },
    {
      "cell_type": "code",
      "source": [
        "import pandas as pd\n",
        "data = pd.read_table(\"/content/Excel work book.txt\")\n",
        "print(data)"
      ],
      "metadata": {
        "id": "JYR3Cnid4aEZ",
        "colab": {
          "base_uri": "https://localhost:8080/"
        },
        "outputId": "b2ef460a-7ddf-4696-f18c-131e95a29cd3"
      },
      "execution_count": null,
      "outputs": [
        {
          "output_type": "stream",
          "name": "stdout",
          "text": [
            "     SID      NAME  AGE  COURSE     CONTACT\n",
            "0   1543  HRUTHIKA   19  B Tech  8328015334\n",
            "1   1038    PRANAV   18  B Tech  9676249100\n",
            "2   1560   ANURATH   19  B Tech  8885299732\n",
            "3   1918      RUPA   19  B Tech  8688784288\n",
            "4   1886   SPURTHI   18  B Tech  8806399206\n",
            "5   1027    ANJALI   18  B Tech  6281806866\n",
            "6   1363    VARSHA   19  B Tech  9502511960\n",
            "7   1365   RITHIKA   18  B Tech  6301143258\n",
            "8   2810   HARIENN   17  B Tech  9669312345\n",
            "9   1810   PRAVEEN   20  B Tech  8008052222\n",
            "10  3982   RADHIKA   20  B Tech  7799832229\n",
            "11  1234      RYAN   19  B Tech  8635184599\n",
            "12  1542     RADHA   18  B Tech  7527094208\n",
            "13  1324     ARNAV   20  B Tech  8359149294\n",
            "14  2314   HRITHIK   18  B Tech  7927184909\n",
            "15  1853    AYUSHH   19  B Tech  7629542002\n",
            "16  1345    DEEPAK   18  B Tech  9914771092\n",
            "17  1964   KARTHIK   18  B Tech  7738296912\n",
            "18  1742   ADITHYA   20  B Tech  9922447729\n",
            "19  1853    GEORGE   19  B Tech  8002185419\n"
          ]
        }
      ]
    },
    {
      "cell_type": "code",
      "source": [
        "import pandas as pd\n",
        "data = pd.read_csv(\"heart.csv\")\n",
        "print(data)"
      ],
      "metadata": {
        "colab": {
          "base_uri": "https://localhost:8080/"
        },
        "id": "W9-vQJ1B-w8Y",
        "outputId": "d40b2d3f-8c8f-49da-9e37-e1f06ebf0d89"
      },
      "execution_count": null,
      "outputs": [
        {
          "output_type": "stream",
          "name": "stdout",
          "text": [
            "      age  sex  cp  trestbps  chol  fbs  restecg  thalach  exang  oldpeak  \\\n",
            "0      52    1   0       125   212    0        1      168      0      1.0   \n",
            "1      53    1   0       140   203    1        0      155      1      3.1   \n",
            "2      70    1   0       145   174    0        1      125      1      2.6   \n",
            "3      61    1   0       148   203    0        1      161      0      0.0   \n",
            "4      62    0   0       138   294    1        1      106      0      1.9   \n",
            "...   ...  ...  ..       ...   ...  ...      ...      ...    ...      ...   \n",
            "1020   59    1   1       140   221    0        1      164      1      0.0   \n",
            "1021   60    1   0       125   258    0        0      141      1      2.8   \n",
            "1022   47    1   0       110   275    0        0      118      1      1.0   \n",
            "1023   50    0   0       110   254    0        0      159      0      0.0   \n",
            "1024   54    1   0       120   188    0        1      113      0      1.4   \n",
            "\n",
            "      slope  ca  thal  target  \n",
            "0         2   2     3       0  \n",
            "1         0   0     3       0  \n",
            "2         0   0     3       0  \n",
            "3         2   1     3       0  \n",
            "4         1   3     2       0  \n",
            "...     ...  ..   ...     ...  \n",
            "1020      2   0     2       1  \n",
            "1021      1   1     3       0  \n",
            "1022      1   1     2       0  \n",
            "1023      2   0     2       1  \n",
            "1024      1   1     3       0  \n",
            "\n",
            "[1025 rows x 14 columns]\n"
          ]
        }
      ]
    },
    {
      "cell_type": "code",
      "source": [
        "import pandas as pd\n",
        "data = pd.read_csv(\"games_dataset.csv\")\n",
        "print(data)"
      ],
      "metadata": {
        "colab": {
          "base_uri": "https://localhost:8080/"
        },
        "id": "Yi-mAqhP_guN",
        "outputId": "7098da06-1648-4146-a483-ad1b57592454"
      },
      "execution_count": null,
      "outputs": [
        {
          "output_type": "stream",
          "name": "stdout",
          "text": [
            "                                    Game Name       Genre         Platform  \\\n",
            "0                   Sekiro: Shadows Die Twice      Sports  Nintendo Switch   \n",
            "1                                     Control      Puzzle  Nintendo Switch   \n",
            "2                                    Among Us    Strategy  Nintendo Switch   \n",
            "3                Call of Duty: Modern Warfare     Stealth      PlayStation   \n",
            "4                           League of Legends  Simulation               PC   \n",
            "...                                       ...         ...              ...   \n",
            "4995  The Legend of Zelda: Breath of the Wild      Sports               PC   \n",
            "4996                Assassin's Creed Valhalla     Stealth           Mobile   \n",
            "4997             Fall Guys: Ultimate Knockout      Sports           Mobile   \n",
            "4998                            Borderlands 3  Platformer             Xbox   \n",
            "4999         Counter-Strike: Global Offensive      Action      PlayStation   \n",
            "\n",
            "      Release Year  User Rating  \n",
            "0             2014     9.654719  \n",
            "1             2000     3.457386  \n",
            "2             2007     5.367622  \n",
            "3             2005     1.240325  \n",
            "4             2021     3.535476  \n",
            "...            ...          ...  \n",
            "4995          2013     6.352838  \n",
            "4996          2020     1.852730  \n",
            "4997          2021     5.268067  \n",
            "4998          2018     4.558510  \n",
            "4999          2022     3.443231  \n",
            "\n",
            "[5000 rows x 5 columns]\n"
          ]
        }
      ]
    },
    {
      "cell_type": "markdown",
      "source": [],
      "metadata": {
        "id": "ruYHOBDmBYij"
      }
    }
  ]
}